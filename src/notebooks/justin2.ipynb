{
 "cells": [
  {
   "cell_type": "code",
   "execution_count": 1,
   "metadata": {},
   "outputs": [],
   "source": [
    "from sys import path\n",
    "path.append(\"../\")"
   ]
  },
  {
   "cell_type": "code",
   "execution_count": 2,
   "metadata": {},
   "outputs": [
    {
     "name": "stderr",
     "output_type": "stream",
     "text": [
      "/home/jyue86/Documents/uci/spring-2024/cs274c/DiffRL/.venv/lib/python3.10/site-packages/torch/cuda/__init__.py:619: UserWarning: Can't initialize NVML\n",
      "  warnings.warn(\"Can't initialize NVML\")\n"
     ]
    }
   ],
   "source": [
    "import time\n",
    "\n",
    "from pathlib import Path\n",
    "import matplotlib.pyplot as plt\n",
    "import numpy as np\n",
    "import torch\n",
    "from diffusion import FlowDiffusionEnv\n",
    "from rl import PPO, MLPPolicy\n",
    "from utils import parse_args\n",
    "from stable_baselines3.common.policies import MultiInputActorCriticPolicy \n"
   ]
  },
  {
   "cell_type": "code",
   "execution_count": 3,
   "metadata": {},
   "outputs": [
    {
     "data": {
      "text/plain": [
       "<rl.ppo.PPO at 0x74b915a9f5e0>"
      ]
     },
     "execution_count": 3,
     "metadata": {},
     "output_type": "execute_result"
    }
   ],
   "source": [
    "env_kwargs = {\n",
    "    \"max_time_step\": 100,\n",
    "    # \"batch_size\": args.batch_size,\n",
    "    \"action_range\": (-0.1, 0.1),\n",
    "    # \"obs_horizon\": args.obs_horizon,\n",
    "    \"weights_path\": \"../../weights/smiley_face_weights.pt\" ,\n",
    "    \"dataset\": \"smiley_face\",\n",
    "    \"obs_shape\": (512, 2), # (args.obs_horizon, args.batch_size, 512, 2),\n",
    "    \"action_shape\": (512, 2), # (args.batch_size, 2),\n",
    "    \"obs_range\": (-2, 2),\n",
    "}\n",
    "env = FlowDiffusionEnv(\n",
    "    **env_kwargs\n",
    ")\n",
    "\n",
    "model = PPO(\n",
    "    policy=MLPPolicy,\n",
    "    env=env,\n",
    "    policy_kwargs={\"net_arch\": [128, 128, 128]},\n",
    "    gamma=1\n",
    ")\n",
    "\n",
    "# 50 timesteps per episode, a 1000000 total timesteps\n",
    "model.learn(total_timesteps=10000)"
   ]
  },
  {
   "cell_type": "code",
   "execution_count": 4,
   "metadata": {},
   "outputs": [],
   "source": [
    "imgs = []\n",
    "marginals = []\n",
    "rewards = []\n",
    "actions = []\n",
    "\n",
    "obs, _ = env.reset()\n",
    "all_obs = [obs[\"obs\"]]\n",
    "while True:\n",
    "    action, _ = model.predict(obs)\n",
    "    actions.append(action.reshape(512, 2))\n",
    "    obs, reward, done, trunc, info = env.step(action)\n",
    "    all_obs.append(obs[\"obs\"])\n",
    "    rewards.append(reward)\n",
    "    imgs.append(obs[\"obs\"].reshape(512, 2))\n",
    "    marginals.append(env.marginal_states[-1].reshape(512,2).detach().cpu().numpy())\n",
    "    if done or trunc:\n",
    "        break"
   ]
  },
  {
   "cell_type": "code",
   "execution_count": 9,
   "metadata": {},
   "outputs": [],
   "source": [
    "runs_folder = Path(\"../../runs\")\n",
    "runs_folder.mkdir(exist_ok=True)\n",
    "\n",
    "n_runs = len([i for i in runs_folder.iterdir()])\n",
    "run_folder = Path(f\"../../runs/run_{n_runs}\")\n",
    "run_folder.mkdir(exist_ok=False, parents=True)\n",
    "run_folder_path = str(run_folder.resolve())\n",
    "\n",
    "plt.plot(np.arange(len(rewards)), rewards)\n",
    "plt.savefig(f\"{run_folder_path}/rewards.jpg\")\n",
    "plt.close()\n",
    "\n",
    "for i, img in enumerate(imgs):\n",
    "    fig, axes = plt.subplots(2, 2, figsize=(8,8))\n",
    "    \n",
    "    # Scatter plots for marginals and imgs\n",
    "    axes[0, 0].set_title(\"Marginal Vector Field's Points\")\n",
    "    axes[0, 0].scatter(marginals[i][:, 0], marginals[i][:, 1])\n",
    "    axes[0, 1].set_title(\"Policy's Points\")\n",
    "    axes[0, 1].scatter(img[:, 0], img[:, 1])\n",
    "    \n",
    "    # Prepare data for quiver plot\n",
    "    obs = all_obs[i].squeeze()\n",
    "    t_obs = env.marginal_states[i]\n",
    "    actions_i = actions[i].squeeze()\n",
    "    true_actions = env.true_directions[i].squeeze()\n",
    "    obs_x, obs_y, dx, dy = obs[:, 0], obs[:, 1], actions_i[:,0], actions_i[:,1]\n",
    "    t_obs_x, t_obs_y, t_dx, t_dy = t_obs[:, 0], t_obs[:, 1], true_actions[:,0], true_actions[:,1]\n",
    "    \n",
    "    # Debug print to check shapes\n",
    "    # print(obs.shape, obs_x.shape, obs_y.shape, dx.shape, dy.shape)\n",
    "    \n",
    "    # Ensure shapes are compatible for quiver\n",
    "    if obs_x.shape == dx.shape and obs_y.shape == dy.shape:\n",
    "        axes[1, 0].set_title(\"Marginal Vector Field's Vector Field\")\n",
    "        axes[1,0].quiver(t_obs_x, t_obs_y, t_dx, t_dy)\n",
    "        axes[1, 1].set_title(\"Policy's Vector Field\")\n",
    "        axes[1,1].quiver(obs_x, obs_y, dx, dy)\n",
    "    else:\n",
    "        print(f\"Shapes are not compatible for quiver plot at index {i}\")\n",
    "    \n",
    "    # Save figure\n",
    "    plt.savefig(f\"{run_folder_path}/img{i}.jpg\")\n",
    "    plt.close()\n",
    "\n",
    "# Plot final image and save\n",
    "fig, axes = plt.subplots(2, 2, figsize=(8,8))\n",
    "axes[0, 0].set_title(\"Marginal Vector Field's Points\")\n",
    "axes[0, 0].scatter(marginals[-1][:, 0], marginals[-1][:, 1])\n",
    "axes[0, 1].set_title(\"Policy's Points\")\n",
    "axes[0, 1].scatter(imgs[-1][:, 0], imgs[-1][:, 1])\n",
    "obs = all_obs[-1].squeeze()\n",
    "t_obs = env.marginal_states[-1]\n",
    "actions_i = actions[-1].squeeze()\n",
    "true_actions = env.true_directions[-1].squeeze()\n",
    "obs_x, obs_y, dx, dy = obs[:, 0], obs[:, 1], actions_i[:,0], actions_i[:,1]\n",
    "t_obs_x, t_obs_y, t_dx, t_dy = t_obs[:, 0], t_obs[:, 1], true_actions[:,0], true_actions[:,1]\n",
    "axes[1, 0].set_title(\"Marginal Vector Field's Vector Field\")\n",
    "axes[1,0].quiver(t_obs_x, t_obs_y, t_dx, t_dy)\n",
    "axes[1, 1].set_title(\"Policy's Vector Field\")\n",
    "axes[1,1].quiver(obs_x, obs_y, dx, dy)\n",
    "plt.savefig(f\"{run_folder_path}/img_final.jpg\")\n",
    "plt.close()"
   ]
  },
  {
   "cell_type": "code",
   "execution_count": null,
   "metadata": {},
   "outputs": [],
   "source": []
  },
  {
   "cell_type": "code",
   "execution_count": null,
   "metadata": {},
   "outputs": [],
   "source": []
  },
  {
   "cell_type": "code",
   "execution_count": null,
   "metadata": {},
   "outputs": [],
   "source": []
  }
 ],
 "metadata": {
  "kernelspec": {
   "display_name": ".venv",
   "language": "python",
   "name": "python3"
  },
  "language_info": {
   "codemirror_mode": {
    "name": "ipython",
    "version": 3
   },
   "file_extension": ".py",
   "mimetype": "text/x-python",
   "name": "python",
   "nbconvert_exporter": "python",
   "pygments_lexer": "ipython3",
   "version": "3.10.12"
  }
 },
 "nbformat": 4,
 "nbformat_minor": 2
}
